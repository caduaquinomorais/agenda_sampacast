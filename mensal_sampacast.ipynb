{
 "cells": [
  {
   "cell_type": "code",
   "execution_count": 2,
   "metadata": {},
   "outputs": [],
   "source": [
    "import pandas as pd\n",
    "import os"
   ]
  },
  {
   "cell_type": "code",
   "execution_count": 4,
   "metadata": {},
   "outputs": [
    {
     "name": "stdout",
     "output_type": "stream",
     "text": [
      "Arquivo 'C:\\Users\\Carlos Morais\\Documents\\sampacast\\out\\dados_Sampa Cast - Heliópolis.xlsx' salvo com sucesso.\n",
      "Arquivo 'C:\\Users\\Carlos Morais\\Documents\\sampacast\\out\\dados_Sampa Cast - Hub Green Sampa.xlsx' salvo com sucesso.\n",
      "Arquivo 'C:\\Users\\Carlos Morais\\Documents\\sampacast\\out\\dados_Sampa Cast - Lapa.xlsx' salvo com sucesso.\n",
      "Arquivo 'C:\\Users\\Carlos Morais\\Documents\\sampacast\\out\\dados_Sampa Cast - São Miguel .xlsx' salvo com sucesso.\n",
      "Arquivo 'C:\\Users\\Carlos Morais\\Documents\\sampacast\\out\\dados_Sampa Cast - Vergueiro.xlsx' salvo com sucesso.\n"
     ]
    }
   ],
   "source": [
    "arquivo_entrada = r\"C:\\Users\\Carlos Morais\\Documents\\sampacast\\agenda.xlsx\"\n",
    "pasta_saida = r'C:\\Users\\Carlos Morais\\Documents\\sampacast\\out'\n",
    "\n",
    "def agrupar_usuário():\n",
    "    if not os.path.exists(arquivo_entrada):\n",
    "        print(f\"Arquivo de entrada '{arquivo_entrada}' não encontrado.\")\n",
    "        return\n",
    "    \n",
    "    df = pd.read_excel(arquivo_entrada)\n",
    "\n",
    "    colunas_obrigatorias = ['Unidade', 'Usuário - Documento', 'Usuário - Nome', 'Data do Agendamento']\n",
    "    for coluna in colunas_obrigatorias:\n",
    "        if coluna not in df.columns:\n",
    "            print(f\"A coluna '{coluna}' não está presente no DataFrame original.\")\n",
    "            return\n",
    "\n",
    "    df['Quantidade de Datas'] = 1\n",
    "\n",
    "    grouped = df.groupby(['Unidade', 'Usuário - Documento']).agg({\n",
    "        'Usuário - Nome': 'first',  # Mantém o primeiro nome encontrado\n",
    "        'Data do Agendamento': lambda x: ', '.join(x.dropna().astype(str)),  # Combina as datas em uma string\n",
    "        'Quantidade de Datas': 'sum',  # Soma a quantidade de agendamentos\n",
    "        'Usuário - Email': 'first',\n",
    "        'Usuário - Data Nascimento': 'first',\n",
    "        'Usuário - CEP': 'first',\n",
    "        'Usuário - Rua': 'first',\n",
    "        'Usuário - Gênero': 'first',\n",
    "        'Usuário - Nacionalidade': 'first',\n",
    "        'Usuário - Deficiência': 'first',\n",
    "        'Usuário - Renda Mensal': 'first',\n",
    "        'Usuário - Formação Escolar': 'first',\n",
    "        'Usuário - Cor da Pele': 'first'\n",
    "    }).reset_index()\n",
    "\n",
    "    columns_order = [\n",
    "        'Unidade', 'Usuário - Nome', 'Data do Agendamento', 'Quantidade de Datas', \n",
    "        'Usuário - Email', 'Usuário - Documento', 'Usuário - Data Nascimento', \n",
    "        'Usuário - CEP', 'Usuário - Rua', 'Usuário - Gênero', 'Usuário - Nacionalidade', \n",
    "        'Usuário - Deficiência', 'Usuário - Renda Mensal', 'Usuário - Formação Escolar', \n",
    "        'Usuário - Cor da Pele'\n",
    "    ]\n",
    "    grouped = grouped[columns_order]\n",
    "\n",
    "    if not os.path.exists(pasta_saida):\n",
    "        os.makedirs(pasta_saida)\n",
    "\n",
    "    for unidade, dados in grouped.groupby('Unidade'):\n",
    "        nome_arquivo = os.path.join(pasta_saida, f'dados_{unidade}.xlsx')\n",
    "        dados.to_excel(nome_arquivo, index=False)\n",
    "        print(f\"Arquivo '{nome_arquivo}' salvo com sucesso.\")\n",
    "\n",
    "agrupar_usuário()"
   ]
  }
 ],
 "metadata": {
  "kernelspec": {
   "display_name": "Python 3",
   "language": "python",
   "name": "python3"
  },
  "language_info": {
   "codemirror_mode": {
    "name": "ipython",
    "version": 3
   },
   "file_extension": ".py",
   "mimetype": "text/x-python",
   "name": "python",
   "nbconvert_exporter": "python",
   "pygments_lexer": "ipython3",
   "version": "3.13.1"
  }
 },
 "nbformat": 4,
 "nbformat_minor": 2
}
