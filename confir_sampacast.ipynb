{
 "cells": [
  {
   "cell_type": "code",
   "execution_count": null,
   "metadata": {},
   "outputs": [],
   "source": [
    "import time\n",
    "import pandas as pd\n",
    "from datetime import date, datetime\n",
    "from urllib.parse import quote"
   ]
  },
  {
   "cell_type": "code",
   "execution_count": null,
   "metadata": {},
   "outputs": [],
   "source": [
    "def generate_whatsapp_link(phone_number, message):\n",
    "    phone_number = ''.join(filter(str.isdigit, phone_number))\n",
    "\n",
    "    encoded_message = quote(message)\n",
    "\n",
    "    return f\"{phone_number} : https://wa.me/55{phone_number}/?text={encoded_message} \\n\"\n",
    "\n",
    "def send_whatsapp_message(phone_number, message):\n",
    "    whatsapp_link = generate_whatsapp_link(phone_number, message)\n",
    "    print(f\"{whatsapp_link}\")\n",
    "\n",
    "def send_messages_from_excel(file_path):\n",
    "    try:\n",
    "        df = pd.read_excel(file_path)\n",
    "        for index, row in df.iterrows():\n",
    "            name = str(row['Usuário - Nome']).split()[0].title()\n",
    "            phone_number = str(row['Usuário - Telefone'])\n",
    "            unid = str(row['Unidade'])\n",
    "            hora = datetime.strptime(row['Horário Início'], '%H:%M:%S')\n",
    "\n",
    "            horario = hora.strftime('%H:%M')\n",
    "\n",
    "            message = f\"Bom dia! Tudo bem, {name}? Nós da ADE SAMPA estamos entrando em contato para confirmar seu agendamento no {unid}. Tudo certo para amanhã às {horario}? \\n \\n*É de suma importância que esteja ciente do nosso manual de conduta. Segue o mesmo: http://bit.ly/3G4rcfb *\"\n",
    "\n",
    "            send_whatsapp_message(phone_number, message)\n",
    "\n",
    "    except Exception as e:\n",
    "        print(f\"Ocorreu um erro ao processar o arquivo Excel: {e}\")\n",
    "\n",
    "if __name__ == \"__main__\":\n",
    "    file_path = r'agenda.xlsx'\n",
    "\n",
    "    send_messages_from_excel(file_path)"
   ]
  },
  {
   "cell_type": "code",
   "execution_count": null,
   "metadata": {},
   "outputs": [],
   "source": [
    "def generate_whatsapp_link(phone_number, message):\n",
    "    phone_number = ''.join(filter(str.isdigit, phone_number))\n",
    "\n",
    "    encoded_message = quote(message)\n",
    "\n",
    "    return f\"{phone_number} : https://wa.me/55{phone_number}/?text={encoded_message} \\n\"\n",
    "\n",
    "def send_whatsapp_message(phone_number, message):\n",
    "    whatsapp_link = generate_whatsapp_link(phone_number, message)\n",
    "    print(f\"{whatsapp_link}\")\n",
    "\n",
    "def send_messages_from_excel(file_path):\n",
    "    try:\n",
    "        df = pd.read_excel(file_path)\n",
    "        for index, row in df.iterrows():\n",
    "            name = str(row['Usuário - Nome']).split()[0].title()\n",
    "            phone_number = str(row['Usuário - Telefone'])\n",
    "            unid = str(row['Unidade'])\n",
    "            hora = datetime.strptime(row['Horário Início'], '%H:%M:%S')\n",
    "\n",
    "            horario = hora.strftime('%H:%M')\n",
    "\n",
    "            message = f\"Bom dia! Tudo bem, {name}? Nós da ADE SAMPA estamos entrando em contato para confirmar seu agendamento na {unid}. Tudo certo para segunda-feira às {horario}? \\n \\n*É de suma importância que esteja ciente do nosso manual de conduta. Segue o mesmo: https://bit.ly/3YqIOYL*\"\n",
    "\n",
    "            send_whatsapp_message(phone_number, message)\n",
    "\n",
    "    except Exception as e:\n",
    "        print(f\"Ocorreu um erro ao processar o arquivo Excel: {e}\")\n",
    "\n",
    "if __name__ == \"__main__\":\n",
    "    file_path = r'agenda.xlsx'\n",
    "\n",
    "    send_messages_from_excel(file_path)"
   ]
  }
 ],
 "metadata": {
  "kernelspec": {
   "display_name": "Python 3",
   "language": "python",
   "name": "python3"
  },
  "language_info": {
   "codemirror_mode": {
    "name": "ipython",
    "version": 3
   },
   "file_extension": ".py",
   "mimetype": "text/x-python",
   "name": "python",
   "nbconvert_exporter": "python",
   "pygments_lexer": "ipython3",
   "version": "3.13.3"
  }
 },
 "nbformat": 4,
 "nbformat_minor": 2
}
